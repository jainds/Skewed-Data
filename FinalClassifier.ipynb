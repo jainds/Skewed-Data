{
 "cells": [
  {
   "cell_type": "code",
   "execution_count": 22,
   "metadata": {
    "scrolled": true
   },
   "outputs": [],
   "source": [
    "import matplotlib.pyplot as plt\n",
    "import seaborn as sns\n",
    "import scipy\n",
    "import numpy\n",
    "import pandas\n",
    "import math\n",
    "from sklearn.tree import DecisionTreeClassifier\n",
    "\n",
    "data = pandas.read_csv('ClassificationProblem1.txt', sep=\"\\t\")\n",
    "test = pandas.read_csv('Classification1Test.txt', sep=\"\\t\")\n",
    "data = data.set_index(\"Index\", drop =True)\n",
    "test = test.set_index(\"Index\", drop =True)\n",
    "data['F15'] = pandas.to_datetime(data['F15'], errors='raise', dayfirst=False, yearfirst=False, utc=None, box=True, format=\"%m/%d/%Y\", exact=True, unit=None, infer_datetime_format=False)\n",
    "data['F16'] = pandas.to_datetime(data['F16'], errors='raise', dayfirst=False, yearfirst=False, utc=None, box=True, format=\"%m/%d/%Y\", exact=True, unit=None, infer_datetime_format=False)\n",
    "label = data['C']\n",
    "dat = data.drop(['C'],axis=1)\n",
    "daf = dat\n",
    "daf['F15'] =data['F15'].apply(lambda x: x.toordinal())\n",
    "daf['F16'] =data['F16'].apply(lambda x: x.toordinal())\n",
    "daf = daf.drop(['F1','F2','F3','F4','F5','F6','F7','F8','F9','F10','F12','F13','F14','F17','F18'], axis=1)\n",
    "test = test.drop(['F1','F2','F3','F4','F5','F6','F7','F8','F9','F10','F12','F13','F14','F17','F18'], axis=1)\n",
    "test['F15'] = pandas.to_datetime(test['F15'], errors='raise', dayfirst=False, yearfirst=False, utc=None, box=True, format=\"%m/%d/%Y\", exact=True, unit=None, infer_datetime_format=False)\n",
    "test['F16'] = pandas.to_datetime(test['F16'], errors='raise', dayfirst=False, yearfirst=False, utc=None, box=True, format=\"%m/%d/%Y\", exact=True, unit=None, infer_datetime_format=False)\n",
    "test['F15'] =test['F15'].apply(lambda x: x.toordinal())\n",
    "test['F16'] =test['F16'].apply(lambda x: x.toordinal())\n",
    "\n"
   ]
  },
  {
   "cell_type": "code",
   "execution_count": 23,
   "metadata": {
    "collapsed": true
   },
   "outputs": [],
   "source": [
    "classifier = DecisionTreeClassifier()\n",
    "classifier.fit(daf,label)\n",
    "details = classifier.predict(test)"
   ]
  },
  {
   "cell_type": "code",
   "execution_count": 24,
   "metadata": {},
   "outputs": [],
   "source": [
    "result = df = pandas.DataFrame(details, index=test.index.values)\n",
    "result.to_csv('result.txt', header=True, index=True, sep=\"\\t\")"
   ]
  },
  {
   "cell_type": "code",
   "execution_count": null,
   "metadata": {
    "collapsed": true
   },
   "outputs": [],
   "source": []
  }
 ],
 "metadata": {
  "kernelspec": {
   "display_name": "Python 2",
   "language": "python",
   "name": "python2"
  },
  "language_info": {
   "codemirror_mode": {
    "name": "ipython",
    "version": 2
   },
   "file_extension": ".py",
   "mimetype": "text/x-python",
   "name": "python",
   "nbconvert_exporter": "python",
   "pygments_lexer": "ipython2",
   "version": "2.7.13"
  }
 },
 "nbformat": 4,
 "nbformat_minor": 2
}
